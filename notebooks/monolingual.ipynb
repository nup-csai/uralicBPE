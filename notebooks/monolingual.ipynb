{
 "cells": [
  {
   "cell_type": "code",
   "execution_count": null,
   "metadata": {
    "colab": {
     "base_uri": "https://localhost:8080/"
    },
    "id": "rnRh3TK7wJPC",
    "outputId": "3b536b69-8a0d-4fa8-85ca-addfaab263ee"
   },
   "outputs": [],
   "source": [
    "!python -m pip install pycld2"
   ]
  },
  {
   "cell_type": "code",
   "execution_count": null,
   "metadata": {},
   "outputs": [],
   "source": [
    "raw_corpus = {\n",
    "    \"hu\": \"../tokenizers/wikipedia_hu_all_nopic_2024-05.text\",\n",
    "    \"et\": \"../tokenizers/wikipedia_et_all_nopic_2024-05.text\",\n",
    "    \"fi\": \"../tokenizers/wikipedia_fi_all_nopic_2024-05.text\",\n",
    "    \"se\": \"../tokenizers/wikipedia_se_all_nopic_2024-05.text\",\n",
    "}\n",
    "step1_corpus = {\n",
    "    \"hu\": \"../tokenizers/wikipedia_hu_all_nopic_2024-05.step1.text\",\n",
    "    \"et\": \"../tokenizers/wikipedia_et_all_nopic_2024-05.step1.text\",\n",
    "    \"fi\": \"../tokenizers/wikipedia_fi_all_nopic_2024-05.step1.text\",\n",
    "    \"se\": \"../tokenizers/wikipedia_se_all_nopic_2024-05.step1.text\",\n",
    "}"
   ]
  },
  {
   "cell_type": "code",
   "execution_count": null,
   "metadata": {},
   "outputs": [],
   "source": [
    "### step 1. Lets remove all not-latin characters\n",
    "import unicodedata\n",
    "import re\n",
    "from tqdm import tqdm\n",
    "\n",
    "def is_latin(word):\n",
    "    return all(unicodedata.name(char).startswith('LATIN') for char in word)\n",
    "\n",
    "def filter_latin_words(text):\n",
    "    words = re.findall(r'\\b\\w+\\b', text)\n",
    "    return [word for word in words if is_latin(word)]\n",
    "\n",
    "for language, corpus_file in raw_corpus.items():\n",
    "    print(language)\n",
    "    with open(corpus_file, 'r') as f:\n",
    "        with open(step1_corpus[language], 'w') as out:\n",
    "            for line in f:\n",
    "                filtered_words = filter_latin_words(line)\n",
    "                if len(filtered_words) < 10:\n",
    "                    continue\n",
    "                out.write(' '.join(filtered_words) + '\\n')"
   ]
  },
  {
   "cell_type": "code",
   "execution_count": null,
   "metadata": {
    "id": "lpKrNirRwKTZ"
   },
   "outputs": [],
   "source": [
    "uralic_cons_or_not = {\n",
    "    \"HUNGARIAN\": 0,\n",
    "    \"HUNGARIAN not\": 0,\n",
    "    \"FINNISH\": 0,\n",
    "    \"FINNISH not\": 0,\n",
    "    \"ESTONIAN\": 0,\n",
    "    \"ESTONIAN not\": 0,\n",
    "    \"NORTHERN SAMI\": 0,\n",
    "    \"NORTHERN SAMI not\": 0\n",
    "}"
   ]
  },
  {
   "cell_type": "code",
   "execution_count": null,
   "metadata": {
    "colab": {
     "base_uri": "https://localhost:8080/"
    },
    "id": "qt03QD3p0DK6",
    "outputId": "3f354b61-9c5c-451e-d153-c46749129e53"
   },
   "outputs": [],
   "source": [
    "from google.colab import drive\n",
    "drive.mount('/content/drive')"
   ]
  },
  {
   "cell_type": "code",
   "execution_count": null,
   "metadata": {
    "id": "Q82GOxf954-W"
   },
   "outputs": [],
   "source": [
    "with open('/content/drive/MyDrive/uralic/uralic.txt', 'r', encoding='utf-8') as file:\n",
    "    articles = file.read().split('\\n')"
   ]
  },
  {
   "cell_type": "code",
   "execution_count": null,
   "metadata": {
    "colab": {
     "base_uri": "https://localhost:8080/",
     "height": 49,
     "referenced_widgets": [
      "5ccfadeb4ae34845989f28f4d0af9efa",
      "282c77af14f243a8b40c036a75323fd9",
      "50276d2f72ed4266b8e86475e54ded7d",
      "c367c7a4cb084c88841cf429e01b67ec",
      "02b128201ca3449886a86f02973c1d9c",
      "f760432aa6b54f999b24786c37e7038b",
      "47e2fa8177ce446fb255783f5579de30",
      "707c8a82d50849658a8f9684304b434c",
      "a78f401ac922407ba174ef26c41bd2b4",
      "4492fdfe923348948880e693b362137c",
      "20947df9c1ac4e7f9f41d2b64ab1e510"
     ]
    },
    "id": "0SbQizT3wdgZ",
    "outputId": "5b890d72-6797-40bb-fa9e-37463bc6c6e7"
   },
   "outputs": [],
   "source": [
    "### Step 2. Lets recheck the languages wtih pycld2\n",
    "\n",
    "import pycld2 as cld2\n",
    "from tqdm.auto import tqdm\n",
    "\n",
    "file_name = \"monolingual.txt\"\n",
    "\n",
    "with open(file_name, \"w\") as file:\n",
    "    for i, article in enumerate(tqdm(articles), start=1):\n",
    "        if article.strip():\n",
    "            try:\n",
    "                is_reliable, text_bytes_found, details = cld2.detect(article)\n",
    "            except:\n",
    "                continue\n",
    "\n",
    "            if is_reliable:\n",
    "                lang_name = details[0][0]\n",
    "                lang_percentage = details[0][2]\n",
    "                if lang_name in [\"HUNGARIAN\", \"FINNISH\", \"ESTONIAN\", \"NORTHERN SAMI\"]:\n",
    "                    # if lang_percentage > 94:\n",
    "                    if details[1][0] == \"Unknown\":\n",
    "                        uralic_cons_or_not[lang_name] += 1\n",
    "                        file.write(article + \"\\n\")\n",
    "                    else:\n",
    "                        uralic_cons_or_not[f\"{lang_name} not\"] += 1\n",
    "            else:\n",
    "                continue"
   ]
  },
  {
   "cell_type": "code",
   "execution_count": null,
   "metadata": {
    "colab": {
     "base_uri": "https://localhost:8080/"
    },
    "id": "jFbZWy-A0eBZ",
    "outputId": "0dc7fbb2-64bc-4383-c51c-3af0abcc6aa5"
   },
   "outputs": [],
   "source": [
    "uralic_cons_or_not"
   ]
  },
  {
   "cell_type": "code",
   "execution_count": null,
   "metadata": {
    "colab": {
     "base_uri": "https://localhost:8080/",
     "height": 34
    },
    "id": "x1M5pF3Tm_bK",
    "outputId": "08418ed1-fb71-47ba-e837-f49abb0b2b22"
   },
   "outputs": [],
   "source": [
    "from google.colab import files\n",
    "\n",
    "files.download(\"monolingual.txt\")"
   ]
  },
  {
   "cell_type": "code",
   "execution_count": null,
   "metadata": {
    "id": "lmnRSVFqlysZ"
   },
   "outputs": [],
   "source": []
  }
 ],
 "metadata": {
  "colab": {
   "machine_shape": "hm",
   "provenance": []
  },
  "kernelspec": {
   "display_name": "Python 3",
   "language": "python",
   "name": "python3"
  },
  "language_info": {
   "codemirror_mode": {
    "name": "ipython",
    "version": 3
   },
   "file_extension": ".py",
   "mimetype": "text/x-python",
   "name": "python",
   "nbconvert_exporter": "python",
   "pygments_lexer": "ipython3",
   "version": "3.11.5"
  },
  "widgets": {
   "application/vnd.jupyter.widget-state+json": {
    "02b128201ca3449886a86f02973c1d9c": {
     "model_module": "@jupyter-widgets/base",
     "model_module_version": "1.2.0",
     "model_name": "LayoutModel",
     "state": {
      "_model_module": "@jupyter-widgets/base",
      "_model_module_version": "1.2.0",
      "_model_name": "LayoutModel",
      "_view_count": null,
      "_view_module": "@jupyter-widgets/base",
      "_view_module_version": "1.2.0",
      "_view_name": "LayoutView",
      "align_content": null,
      "align_items": null,
      "align_self": null,
      "border": null,
      "bottom": null,
      "display": null,
      "flex": null,
      "flex_flow": null,
      "grid_area": null,
      "grid_auto_columns": null,
      "grid_auto_flow": null,
      "grid_auto_rows": null,
      "grid_column": null,
      "grid_gap": null,
      "grid_row": null,
      "grid_template_areas": null,
      "grid_template_columns": null,
      "grid_template_rows": null,
      "height": null,
      "justify_content": null,
      "justify_items": null,
      "left": null,
      "margin": null,
      "max_height": null,
      "max_width": null,
      "min_height": null,
      "min_width": null,
      "object_fit": null,
      "object_position": null,
      "order": null,
      "overflow": null,
      "overflow_x": null,
      "overflow_y": null,
      "padding": null,
      "right": null,
      "top": null,
      "visibility": null,
      "width": null
     }
    },
    "20947df9c1ac4e7f9f41d2b64ab1e510": {
     "model_module": "@jupyter-widgets/controls",
     "model_module_version": "1.5.0",
     "model_name": "DescriptionStyleModel",
     "state": {
      "_model_module": "@jupyter-widgets/controls",
      "_model_module_version": "1.5.0",
      "_model_name": "DescriptionStyleModel",
      "_view_count": null,
      "_view_module": "@jupyter-widgets/base",
      "_view_module_version": "1.2.0",
      "_view_name": "StyleView",
      "description_width": ""
     }
    },
    "282c77af14f243a8b40c036a75323fd9": {
     "model_module": "@jupyter-widgets/controls",
     "model_module_version": "1.5.0",
     "model_name": "HTMLModel",
     "state": {
      "_dom_classes": [],
      "_model_module": "@jupyter-widgets/controls",
      "_model_module_version": "1.5.0",
      "_model_name": "HTMLModel",
      "_view_count": null,
      "_view_module": "@jupyter-widgets/controls",
      "_view_module_version": "1.5.0",
      "_view_name": "HTMLView",
      "description": "",
      "description_tooltip": null,
      "layout": "IPY_MODEL_f760432aa6b54f999b24786c37e7038b",
      "placeholder": "​",
      "style": "IPY_MODEL_47e2fa8177ce446fb255783f5579de30",
      "value": "100%"
     }
    },
    "4492fdfe923348948880e693b362137c": {
     "model_module": "@jupyter-widgets/base",
     "model_module_version": "1.2.0",
     "model_name": "LayoutModel",
     "state": {
      "_model_module": "@jupyter-widgets/base",
      "_model_module_version": "1.2.0",
      "_model_name": "LayoutModel",
      "_view_count": null,
      "_view_module": "@jupyter-widgets/base",
      "_view_module_version": "1.2.0",
      "_view_name": "LayoutView",
      "align_content": null,
      "align_items": null,
      "align_self": null,
      "border": null,
      "bottom": null,
      "display": null,
      "flex": null,
      "flex_flow": null,
      "grid_area": null,
      "grid_auto_columns": null,
      "grid_auto_flow": null,
      "grid_auto_rows": null,
      "grid_column": null,
      "grid_gap": null,
      "grid_row": null,
      "grid_template_areas": null,
      "grid_template_columns": null,
      "grid_template_rows": null,
      "height": null,
      "justify_content": null,
      "justify_items": null,
      "left": null,
      "margin": null,
      "max_height": null,
      "max_width": null,
      "min_height": null,
      "min_width": null,
      "object_fit": null,
      "object_position": null,
      "order": null,
      "overflow": null,
      "overflow_x": null,
      "overflow_y": null,
      "padding": null,
      "right": null,
      "top": null,
      "visibility": null,
      "width": null
     }
    },
    "47e2fa8177ce446fb255783f5579de30": {
     "model_module": "@jupyter-widgets/controls",
     "model_module_version": "1.5.0",
     "model_name": "DescriptionStyleModel",
     "state": {
      "_model_module": "@jupyter-widgets/controls",
      "_model_module_version": "1.5.0",
      "_model_name": "DescriptionStyleModel",
      "_view_count": null,
      "_view_module": "@jupyter-widgets/base",
      "_view_module_version": "1.2.0",
      "_view_name": "StyleView",
      "description_width": ""
     }
    },
    "50276d2f72ed4266b8e86475e54ded7d": {
     "model_module": "@jupyter-widgets/controls",
     "model_module_version": "1.5.0",
     "model_name": "FloatProgressModel",
     "state": {
      "_dom_classes": [],
      "_model_module": "@jupyter-widgets/controls",
      "_model_module_version": "1.5.0",
      "_model_name": "FloatProgressModel",
      "_view_count": null,
      "_view_module": "@jupyter-widgets/controls",
      "_view_module_version": "1.5.0",
      "_view_name": "ProgressView",
      "bar_style": "success",
      "description": "",
      "description_tooltip": null,
      "layout": "IPY_MODEL_707c8a82d50849658a8f9684304b434c",
      "max": 9758238,
      "min": 0,
      "orientation": "horizontal",
      "style": "IPY_MODEL_a78f401ac922407ba174ef26c41bd2b4",
      "value": 9758238
     }
    },
    "5ccfadeb4ae34845989f28f4d0af9efa": {
     "model_module": "@jupyter-widgets/controls",
     "model_module_version": "1.5.0",
     "model_name": "HBoxModel",
     "state": {
      "_dom_classes": [],
      "_model_module": "@jupyter-widgets/controls",
      "_model_module_version": "1.5.0",
      "_model_name": "HBoxModel",
      "_view_count": null,
      "_view_module": "@jupyter-widgets/controls",
      "_view_module_version": "1.5.0",
      "_view_name": "HBoxView",
      "box_style": "",
      "children": [
       "IPY_MODEL_282c77af14f243a8b40c036a75323fd9",
       "IPY_MODEL_50276d2f72ed4266b8e86475e54ded7d",
       "IPY_MODEL_c367c7a4cb084c88841cf429e01b67ec"
      ],
      "layout": "IPY_MODEL_02b128201ca3449886a86f02973c1d9c"
     }
    },
    "707c8a82d50849658a8f9684304b434c": {
     "model_module": "@jupyter-widgets/base",
     "model_module_version": "1.2.0",
     "model_name": "LayoutModel",
     "state": {
      "_model_module": "@jupyter-widgets/base",
      "_model_module_version": "1.2.0",
      "_model_name": "LayoutModel",
      "_view_count": null,
      "_view_module": "@jupyter-widgets/base",
      "_view_module_version": "1.2.0",
      "_view_name": "LayoutView",
      "align_content": null,
      "align_items": null,
      "align_self": null,
      "border": null,
      "bottom": null,
      "display": null,
      "flex": null,
      "flex_flow": null,
      "grid_area": null,
      "grid_auto_columns": null,
      "grid_auto_flow": null,
      "grid_auto_rows": null,
      "grid_column": null,
      "grid_gap": null,
      "grid_row": null,
      "grid_template_areas": null,
      "grid_template_columns": null,
      "grid_template_rows": null,
      "height": null,
      "justify_content": null,
      "justify_items": null,
      "left": null,
      "margin": null,
      "max_height": null,
      "max_width": null,
      "min_height": null,
      "min_width": null,
      "object_fit": null,
      "object_position": null,
      "order": null,
      "overflow": null,
      "overflow_x": null,
      "overflow_y": null,
      "padding": null,
      "right": null,
      "top": null,
      "visibility": null,
      "width": null
     }
    },
    "a78f401ac922407ba174ef26c41bd2b4": {
     "model_module": "@jupyter-widgets/controls",
     "model_module_version": "1.5.0",
     "model_name": "ProgressStyleModel",
     "state": {
      "_model_module": "@jupyter-widgets/controls",
      "_model_module_version": "1.5.0",
      "_model_name": "ProgressStyleModel",
      "_view_count": null,
      "_view_module": "@jupyter-widgets/base",
      "_view_module_version": "1.2.0",
      "_view_name": "StyleView",
      "bar_color": null,
      "description_width": ""
     }
    },
    "c367c7a4cb084c88841cf429e01b67ec": {
     "model_module": "@jupyter-widgets/controls",
     "model_module_version": "1.5.0",
     "model_name": "HTMLModel",
     "state": {
      "_dom_classes": [],
      "_model_module": "@jupyter-widgets/controls",
      "_model_module_version": "1.5.0",
      "_model_name": "HTMLModel",
      "_view_count": null,
      "_view_module": "@jupyter-widgets/controls",
      "_view_module_version": "1.5.0",
      "_view_name": "HTMLView",
      "description": "",
      "description_tooltip": null,
      "layout": "IPY_MODEL_4492fdfe923348948880e693b362137c",
      "placeholder": "​",
      "style": "IPY_MODEL_20947df9c1ac4e7f9f41d2b64ab1e510",
      "value": " 9758238/9758238 [04:27&lt;00:00, 43164.65it/s]"
     }
    },
    "f760432aa6b54f999b24786c37e7038b": {
     "model_module": "@jupyter-widgets/base",
     "model_module_version": "1.2.0",
     "model_name": "LayoutModel",
     "state": {
      "_model_module": "@jupyter-widgets/base",
      "_model_module_version": "1.2.0",
      "_model_name": "LayoutModel",
      "_view_count": null,
      "_view_module": "@jupyter-widgets/base",
      "_view_module_version": "1.2.0",
      "_view_name": "LayoutView",
      "align_content": null,
      "align_items": null,
      "align_self": null,
      "border": null,
      "bottom": null,
      "display": null,
      "flex": null,
      "flex_flow": null,
      "grid_area": null,
      "grid_auto_columns": null,
      "grid_auto_flow": null,
      "grid_auto_rows": null,
      "grid_column": null,
      "grid_gap": null,
      "grid_row": null,
      "grid_template_areas": null,
      "grid_template_columns": null,
      "grid_template_rows": null,
      "height": null,
      "justify_content": null,
      "justify_items": null,
      "left": null,
      "margin": null,
      "max_height": null,
      "max_width": null,
      "min_height": null,
      "min_width": null,
      "object_fit": null,
      "object_position": null,
      "order": null,
      "overflow": null,
      "overflow_x": null,
      "overflow_y": null,
      "padding": null,
      "right": null,
      "top": null,
      "visibility": null,
      "width": null
     }
    }
   }
  }
 },
 "nbformat": 4,
 "nbformat_minor": 0
}
